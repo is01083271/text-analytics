{
 "cells": [
  {
   "cell_type": "code",
   "execution_count": 1,
   "id": "5a980a5a-833f-4501-b215-44b9906d884e",
   "metadata": {},
   "outputs": [],
   "source": [
    "import requests"
   ]
  },
  {
   "cell_type": "code",
   "execution_count": 2,
   "id": "f438b9df-196e-4385-9fd0-d544cb664d2a",
   "metadata": {},
   "outputs": [],
   "source": [
    "page = requests.get(\"https://dataquestio.github.io/web-scraping-pages/simple.html\")"
   ]
  },
  {
   "cell_type": "code",
   "execution_count": 3,
   "id": "7c1ff197-8333-438b-b3be-6072b93a4058",
   "metadata": {},
   "outputs": [
    {
     "data": {
      "text/plain": [
       "<Response [200]>"
      ]
     },
     "execution_count": 3,
     "metadata": {},
     "output_type": "execute_result"
    }
   ],
   "source": [
    "page"
   ]
  },
  {
   "cell_type": "code",
   "execution_count": 4,
   "id": "2fce61db-cbee-4f48-a57c-b795fdf658ab",
   "metadata": {},
   "outputs": [],
   "source": [
    "from bs4 import BeautifulSoup\n",
    "soup = BeautifulSoup(page.content, 'html.parser')"
   ]
  },
  {
   "cell_type": "code",
   "execution_count": 5,
   "id": "ca668338-dd1f-4eef-88ef-c40e3d47e5db",
   "metadata": {},
   "outputs": [
    {
     "data": {
      "text/plain": [
       "['html',\n",
       " '\\n',\n",
       " <html>\n",
       " <head>\n",
       " <title>A simple example page</title>\n",
       " </head>\n",
       " <body>\n",
       " <p>Here is some simple content for this page.</p>\n",
       " </body>\n",
       " </html>]"
      ]
     },
     "execution_count": 5,
     "metadata": {},
     "output_type": "execute_result"
    }
   ],
   "source": [
    "list(soup.children)"
   ]
  },
  {
   "cell_type": "code",
   "execution_count": 6,
   "id": "d837f066-9cc8-47aa-97e2-6b03f2d6aa34",
   "metadata": {},
   "outputs": [],
   "source": [
    "html = list(soup.children)[2]"
   ]
  },
  {
   "cell_type": "code",
   "execution_count": 7,
   "id": "63bd27f0-cad6-4a8e-8426-838fe20f9f51",
   "metadata": {},
   "outputs": [
    {
     "data": {
      "text/plain": [
       "<html>\n",
       "<head>\n",
       "<title>A simple example page</title>\n",
       "</head>\n",
       "<body>\n",
       "<p>Here is some simple content for this page.</p>\n",
       "</body>\n",
       "</html>"
      ]
     },
     "execution_count": 7,
     "metadata": {},
     "output_type": "execute_result"
    }
   ],
   "source": [
    "html"
   ]
  },
  {
   "cell_type": "code",
   "execution_count": 9,
   "id": "0bb5ed13-6787-405e-b3d1-0b43cb428a4c",
   "metadata": {},
   "outputs": [],
   "source": [
    "content = soup.find('p').get_text()"
   ]
  },
  {
   "cell_type": "code",
   "execution_count": 10,
   "id": "595e736b-a716-40cb-8e3f-e071258ea4ad",
   "metadata": {},
   "outputs": [
    {
     "name": "stdout",
     "output_type": "stream",
     "text": [
      "Extracted Content: Here is some simple content for this page.\n"
     ]
    }
   ],
   "source": [
    "print(\"Extracted Content:\", content)"
   ]
  },
  {
   "cell_type": "code",
   "execution_count": 11,
   "id": "961544ee-70ec-41cd-95b5-1d169f7be3c5",
   "metadata": {},
   "outputs": [],
   "source": [
    "with open(\"extracted_data1.txt\",\"w\") as file:\n",
    "    file.write(content)"
   ]
  },
  {
   "cell_type": "code",
   "execution_count": null,
   "id": "479e1f52-2aa9-4116-b549-7cbdf7873c28",
   "metadata": {},
   "outputs": [],
   "source": []
  }
 ],
 "metadata": {
  "kernelspec": {
   "display_name": "Python 3 (ipykernel)",
   "language": "python",
   "name": "python3"
  },
  "language_info": {
   "codemirror_mode": {
    "name": "ipython",
    "version": 3
   },
   "file_extension": ".py",
   "mimetype": "text/x-python",
   "name": "python",
   "nbconvert_exporter": "python",
   "pygments_lexer": "ipython3",
   "version": "3.13.2"
  }
 },
 "nbformat": 4,
 "nbformat_minor": 5
}
